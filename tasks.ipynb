{
 "cells": [
  {
   "cell_type": "markdown",
   "metadata": {},
   "source": [
    "# Tasks"
   ]
  },
  {
   "cell_type": "markdown",
   "metadata": {},
   "source": [
    "## 1. Verification of Collatz Conjecture for the First 10,000 Positive Integers"
   ]
  },
  {
   "attachments": {
    "image.png": {
     "image/png": "[encoded data removed]"
    }
   },
   "cell_type": "markdown",
   "metadata": {},
   "source": [
    "The \"Collatz Conjecture\" is an unsolvable problem in matheamtics. The problem suggests that if you use any positive integer, applying a specific function (as seen below), will eventaully lead to the number 1. \n",
    "\n",
    "![image.png](attachment:image.png)"
   ]
  },
  {
   "cell_type": "code",
   "execution_count": 1,
   "metadata": {},
   "outputs": [
    {
     "name": "stdout",
     "output_type": "stream",
     "text": [
      "The Collatz Sequence is verified for all numbers up to 10000\n"
     ]
    }
   ],
   "source": [
    "def collatz_sequence(num):\n",
    "    # Initialize the sequence with the given number\n",
    "    sequence = [num]\n",
    "\n",
    "    # Continue until the sequence reaches 1\n",
    "    while num != 1: \n",
    "        if num % 2 == 0:\n",
    "            # If the number is even, divide by 2\n",
    "            num = num // 2\n",
    "        else:\n",
    "            # If the number is odd, apply the 3n + 1 rule\n",
    "            num = 3 * num + 1\n",
    "        # Append the next number in the sequence\n",
    "        sequence.append(num)\n",
    "\n",
    "    return sequence\n",
    "\n",
    "def verifySequence(limit):\n",
    "    for i in range(1, limit + 1):\n",
    "        # Generate the Collatz sequence for each number\n",
    "        sequence = collatz_sequence(i)\n",
    "        if sequence[-1] != 1:\n",
    "            # If the last number in the sequence is not 1, the conjecture is not verified\n",
    "            return False\n",
    "    # If all sequences reach 1, the conjecture is verified for the given range\n",
    "    return True\n",
    "\n",
    "# Verify the Collatz Conjecture for all numbers up to 10000\n",
    "result = verifySequence(10000)\n",
    "if result: \n",
    "    print(\"The Collatz Sequence is verified for all numbers up to 10000\") # Result is true so the conjecture is verified\n",
    "else:\n",
    "    print(\"The Collatz Sequence is not verified for all numbers up to 10000\") # Result is false so the conjecture is not verified\n"
   ]
  },
  {
   "cell_type": "markdown",
   "metadata": {},
   "source": [
    "## 2. Apporximating Square Roots with Newton's Method"
   ]
  },
  {
   "cell_type": "markdown",
   "metadata": {},
   "source": [
    "We will use Newton's Method to appoximate the square root of a given number <i>x</i>. Starting with an initial guess <i>z0</i>, we will iteratively refine the guess until the difference between consecutive guesses <i>zi</i> and <i>zi+1</i> is less than a specified threshold, in this case its 0.01."
   ]
  },
  {
   "cell_type": "code",
   "execution_count": 7,
   "metadata": {},
   "outputs": [
    {
     "name": "stdout",
     "output_type": "stream",
     "text": [
      "The approximate square root of 20 is 4.5\n"
     ]
    }
   ],
   "source": [
    "def newton_sqrt(x):\n",
    "    # Start with the initial guess\n",
    "    z = x / 2\n",
    "    threshold = 0.01  # The square root of x must be within 0.01 of the actual value\n",
    "    \n",
    "    while True:\n",
    "        # Calculate the next approximation\n",
    "        next_z = z - (z**2 - x) / (2 * z)\n",
    "        \n",
    "        # Check if the difference between the current and next guess is below the threshold\n",
    "        if abs(next_z - z) < threshold:\n",
    "            return next_z  # Return the approximate square root\n",
    "        z = next_z  # Update the guess for the next iteration\n",
    "\n",
    "x = 20  # The number to calculate the square root of\n",
    "result = newton_sqrt(x)\n",
    "print(f\"The approximate square root of {x} is {result:.1f}\")"
   ]
  },
  {
   "cell_type": "markdown",
   "metadata": {},
   "source": [
    "## 3. Random 4-Bit Function Evaluation for Binary Inputs"
   ]
  },
  {
   "cell_type": "code",
   "execution_count": 3,
   "metadata": {},
   "outputs": [
    {
     "name": "stdout",
     "output_type": "stream",
     "text": [
      "Input: [0, 0, 0, 0] => Output: 1\n",
      "Input: [0, 0, 0, 1] => Output: 1\n",
      "Input: [0, 0, 1, 0] => Output: 0\n",
      "Input: [0, 0, 1, 1] => Output: 0\n",
      "Input: [0, 1, 0, 0] => Output: 0\n",
      "Input: [0, 1, 0, 1] => Output: 1\n",
      "Input: [0, 1, 1, 0] => Output: 0\n",
      "Input: [0, 1, 1, 1] => Output: 0\n",
      "Input: [1, 0, 0, 0] => Output: 0\n",
      "Input: [1, 0, 0, 1] => Output: 1\n",
      "Input: [1, 0, 1, 0] => Output: 1\n",
      "Input: [1, 0, 1, 1] => Output: 1\n",
      "Input: [1, 1, 0, 0] => Output: 1\n",
      "Input: [1, 1, 0, 1] => Output: 1\n",
      "Input: [1, 1, 1, 0] => Output: 0\n",
      "Input: [1, 1, 1, 1] => Output: 0\n"
     ]
    }
   ],
   "source": [
    "import random\n",
    "\n",
    "# Generate a random 4-bit to 1-bit function\n",
    "random_function = [random.randint(0, 1) for _ in range(16)]\n",
    "\n",
    "# Function to apply the random function to inputs\n",
    "def apply_function(inputs):\n",
    "    # Convert the binary input list to an integer index\n",
    "    index = int(''.join(map(str, inputs)), 2)\n",
    "    return random_function[index]\n",
    "\n",
    "# Iterate through all 4-bit binary inputs (0 to 15)\n",
    "for i in range(16):\n",
    "    # Convert the loop variable 'i' to a 4-bit binary input\n",
    "    input = [int(bit) for bit in format(i, '04b')]\n",
    "    # Apply the random function to the input\n",
    "    output = apply_function(input)\n",
    "    # Print the input and output\n",
    "    print(f\"Input: {input} => Output: {output}\")"
   ]
  },
  {
   "cell_type": "markdown",
   "metadata": {},
   "source": [
    "## 4. Matrix Multiplication "
   ]
  },
  {
   "cell_type": "code",
   "execution_count": 3,
   "metadata": {},
   "outputs": [
    {
     "name": "stdout",
     "output_type": "stream",
     "text": [
      "[[13.330000000000002, 13.850000000000001, 14.37], [434.96000000000004, 454.59999999999997, 474.23999999999995], [46.053000000000004, 48.096, 50.138999999999996]]\n"
     ]
    }
   ],
   "source": [
    "def matrix_multiplication(matrix_a, matrix_b):    \n",
    "    result = [[0 for _ in range(len(matrix_b[0]))] for _ in range(len(matrix_a))]\n",
    "    \n",
    "    for i in range(len(matrix_a)):\n",
    "        for j in range(len(matrix_b[0])):\n",
    "            for k in range(len(matrix_b)):\n",
    "                result[i][j] += matrix_a[i][k] * matrix_b[k][j]\n",
    "                \n",
    "    return result\n",
    "\n",
    "\n",
    "print(matrix_multiplication([[3.1, 2.1], [193.2, 3.2], [19.2, 1.23]], [[2.2, 2.3, 2.4], [3.1, 3.2, 3.3]]))"
   ]
  },
  {
   "cell_type": "markdown",
   "metadata": {},
   "source": [
    "\n",
    "\n",
    "## References"
   ]
  },
  {
   "cell_type": "code",
   "execution_count": null,
   "metadata": {},
   "outputs": [],
   "source": []
  }
 ],
 "metadata": {
  "kernelspec": {
   "display_name": "Python 3 (ipykernel)",
   "language": "python",
   "name": "python3"
  },
  "language_info": {
   "codemirror_mode": {
    "name": "ipython",
    "version": 3
   },
   "file_extension": ".py",
   "mimetype": "text/x-python",
   "name": "python",
   "nbconvert_exporter": "python",
   "pygments_lexer": "ipython3",
   "version": "3.10.8"
  }
 },
 "nbformat": 4,
 "nbformat_minor": 4
}
