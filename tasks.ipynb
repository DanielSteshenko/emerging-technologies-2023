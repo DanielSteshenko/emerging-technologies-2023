{
 "cells": [
  {
   "cell_type": "markdown",
   "metadata": {},
   "source": [
    "# Tasks\n",
    "By Daniel Steshenko\n",
    "\n",
    "---"
   ]
  },
  {
   "cell_type": "markdown",
   "metadata": {},
   "source": [
    "## Task 1: Verification of Collatz Conjecture for the First 10,000 Positive Integers\n",
    "---"
   ]
  },
  {
   "attachments": {},
   "cell_type": "markdown",
   "metadata": {},
   "source": [
    "The Collatz Conjecture is a mathematical problem that states if you start with any positive integer and repeatedly apply a specific function, you will eventually reach the sequence $1, 4, 2, 1, etc$. The function works like this: \n",
    "\n",
    "- if the current number is even, divide it by 2.\n",
    "- if the current number is odd, triple it and add 1.\n",
    "\n",
    "Though simple, the conjecture has not been proven yet and is seen as an unsolvable problem.\n",
    "\n",
    "We'll go through how to use it in Python, in the example we will use 10,000 positive integers."
   ]
  },
  {
   "cell_type": "code",
   "execution_count": 1,
   "metadata": {},
   "outputs": [
    {
     "name": "stdout",
     "output_type": "stream",
     "text": [
      "The Collatz Sequence is verified for all numbers up to 10000\n"
     ]
    }
   ],
   "source": [
    "def collatz_sequence(num):\n",
    "    # Initialize the sequence with the given number\n",
    "    sequence = [num]\n",
    "\n",
    "    # Continue until the sequence reaches 1\n",
    "    while num != 1: \n",
    "        if num % 2 == 0:\n",
    "            # If the number is even, divide by 2\n",
    "            num = num // 2\n",
    "        else:\n",
    "            # If the number is odd, apply the 3n + 1 rule\n",
    "            num = 3 * num + 1\n",
    "        # Append the next number in the sequence\n",
    "        sequence.append(num)\n",
    "\n",
    "    return sequence\n",
    "\n",
    "def verify_sequence(limit):\n",
    "    for i in range(1, limit + 1):\n",
    "        # Generate the Collatz sequence for each number\n",
    "        sequence = collatz_sequence(i)\n",
    "        if sequence[-1] != 1:\n",
    "            # If the last number in the sequence is not 1, the conjecture is not verified\n",
    "            return False\n",
    "    # If all sequences reach 1, the conjecture is verified for the given range\n",
    "    return True\n",
    "\n",
    "# Verify the Collatz Conjecture for all numbers up to 10000\n",
    "result = verify_sequence(10000)\n",
    "if result: \n",
    "    print(\"The Collatz Sequence is verified for all numbers up to 10000\") # Result is true so the conjecture is verified\n",
    "else:\n",
    "    print(\"The Collatz Sequence is not verified for all numbers up to 10000\") # Result is false so the conjecture is not verified\n"
   ]
  },
  {
   "cell_type": "markdown",
   "metadata": {},
   "source": [
    "### Conclusion\n",
    "The code above validates the Collatz Conjecture for the first 10,000 numbers. \n",
    "\n",
    "But we have to take into account that there are a lot more numbers than 10,000. As a result, this does not prove the Collatz Conjecture."
   ]
  },
  {
   "cell_type": "markdown",
   "metadata": {},
   "source": [
    "## Task 2: Approximating Square Roots with Newton's Method\n",
    "---"
   ]
  },
  {
   "cell_type": "markdown",
   "metadata": {},
   "source": [
    "We will use Newton's Method to approximate the square root of a given number $x$. Newton's Method is one of the basic algorithms that you can use to find the square root of a given number. Newton's Method avoids the use of external libraries and solely relies on plain Python code to get the square root. The method we will use to get the square root value of a given number will iterate to improve its guess until the difference becomes small.\n",
    "\n",
    "We'll go through how to use it in Python, in the example we'll use the value $20$ and get its square root value."
   ]
  },
  {
   "cell_type": "code",
   "execution_count": 2,
   "metadata": {},
   "outputs": [
    {
     "name": "stdout",
     "output_type": "stream",
     "text": [
      "The approximate square root of 20 is 4.5\n"
     ]
    }
   ],
   "source": [
    "def newton_sqrt(x):\n",
    "    approx = 0.5 * x # Initial guess\n",
    "    better = 0.5 * (approx + x / approx) # Calculate a better approximation\n",
    "\n",
    "    # Keep going until the two values are within 1% of each other\n",
    "    while better != approx:\n",
    "        approx = better # Make the current approximation the new one\n",
    "        better = 0.5 * (approx + x / approx) # Calculate a better approximation\n",
    "\n",
    "    return approx # Return the approximate square root\n",
    "\n",
    "x = 20  # The number to calculate the square root of\n",
    "result = newton_sqrt(x) # Call the function with x as the argument\n",
    "print(f\"The approximate square root of {x} is {result:.1f}\") # Print the result"
   ]
  },
  {
   "cell_type": "markdown",
   "metadata": {},
   "source": [
    "### Conclusion\n",
    "\n",
    "The above code demonstrates the use of Newton's Method to approximate square roots. It is a very precise and reliable method used to approximate square roots."
   ]
  },
  {
   "cell_type": "markdown",
   "metadata": {},
   "source": [
    "## Task 3: Random 4-Bit Function Evaluation for Binary Inputs\n",
    "---"
   ]
  },
  {
   "cell_type": "markdown",
   "metadata": {},
   "source": [
    "The random 4-bit function for binary inputs involves generating a random boolean function that takes 4 binary inputs and produces a binary output. \n",
    "\n",
    "The code below generates a random 4-bit function and evaluates it for all possible 4-bit binary inputs."
   ]
  },
  {
   "cell_type": "code",
   "execution_count": 3,
   "metadata": {},
   "outputs": [
    {
     "name": "stdout",
     "output_type": "stream",
     "text": [
      "Input: [0, 0, 0, 0] => Output: 0\n",
      "Input: [0, 0, 0, 1] => Output: 1\n",
      "Input: [0, 0, 1, 0] => Output: 1\n",
      "Input: [0, 0, 1, 1] => Output: 0\n",
      "Input: [0, 1, 0, 0] => Output: 0\n",
      "Input: [0, 1, 0, 1] => Output: 1\n",
      "Input: [0, 1, 1, 0] => Output: 1\n",
      "Input: [0, 1, 1, 1] => Output: 1\n",
      "Input: [1, 0, 0, 0] => Output: 0\n",
      "Input: [1, 0, 0, 1] => Output: 0\n",
      "Input: [1, 0, 1, 0] => Output: 0\n",
      "Input: [1, 0, 1, 1] => Output: 0\n",
      "Input: [1, 1, 0, 0] => Output: 1\n",
      "Input: [1, 1, 0, 1] => Output: 0\n",
      "Input: [1, 1, 1, 0] => Output: 0\n",
      "Input: [1, 1, 1, 1] => Output: 1\n"
     ]
    }
   ],
   "source": [
    "import random\n",
    "\n",
    "# Generate a random 4-bit \n",
    "random_function = [random.randint(0, 1) for _ in range(16)]\n",
    "\n",
    "# Function to apply the random function to inputs\n",
    "def apply_function(inputs):\n",
    "    # Convert the binary input list to an integer index\n",
    "    index = int(''.join(map(str, inputs)), 2)\n",
    "    return random_function[index]\n",
    "\n",
    "# Iterate through all 4-bit binary inputs (0 to 15)\n",
    "for i in range(16):\n",
    "    # Convert the loop variable 'i' to a 4-bit binary input\n",
    "    input = [int(bit) for bit in format(i, '04b')]\n",
    "    # Apply the random function to the input\n",
    "    output = apply_function(input)\n",
    "    # Print the input and output\n",
    "    print(f\"Input: {input} => Output: {output}\")"
   ]
  },
  {
   "cell_type": "markdown",
   "metadata": {},
   "source": [
    "### Conclusion\n",
    "\n",
    "The code above generates a random 4-bit boolean function, then the ``apply_function`` function takes a set of inputs and uses the generated random 4-bit boolean values to produce an output. We then iterate through all 16 possible 4-bit inputs, and print each input along with the output.\n"
   ]
  },
  {
   "cell_type": "markdown",
   "metadata": {},
   "source": [
    "## Task 4: Matrix Multiplication\n",
    "--- "
   ]
  },
  {
   "cell_type": "markdown",
   "metadata": {},
   "source": [
    "The matrix multiplication is an operation used within algebra. When we have two matrices, A and B, we can get a new matrix C by multiplying the rows of A with the columns of B. \n"
   ]
  },
  {
   "cell_type": "code",
   "execution_count": 4,
   "metadata": {},
   "outputs": [
    {
     "name": "stdout",
     "output_type": "stream",
     "text": [
      "[[13.330000000000002, 13.850000000000001, 14.37], [434.96000000000004, 454.59999999999997, 474.23999999999995], [46.053000000000004, 48.096, 50.138999999999996]]\n"
     ]
    }
   ],
   "source": [
    "# Multiplying two matrices\n",
    "def matrix_multiplication(matrix_a, matrix_b):    \n",
    "    result = [[0 for _ in range(len(matrix_b[0]))] for _ in range(len(matrix_a))] #\n",
    "    \n",
    "    # iterate through rows of matrix_a\n",
    "    for i in range(len(matrix_a)):\n",
    "        # iterate through columns of matrix_b\n",
    "        for j in range(len(matrix_b[0])):\n",
    "            # iterate through rows of matrix_b\n",
    "            for k in range(len(matrix_b)):\n",
    "                # add the product of matrix_a and matrix_b\n",
    "                result[i][j] += matrix_a[i][k] * matrix_b[k][j]\n",
    "                \n",
    "    return result # return the result\n",
    "\n",
    "\n",
    "print(matrix_multiplication(\n",
    "    [\n",
    "        [3.1, 2.1], \n",
    "        [193.2, 3.2], \n",
    "        [19.2, 1.23]\n",
    "    ], \n",
    "    [\n",
    "        [2.2, 2.3, 2.4], \n",
    "        [3.1, 3.2, 3.3]\n",
    "    ]\n",
    "))"
   ]
  },
  {
   "cell_type": "markdown",
   "metadata": {},
   "source": [
    "### Conclusion\n",
    "\n",
    "The code above runs the function ``matrix_multiplication`` to perform a matrix multiplication on two matrices, A and B. The resulting matrix, C, is then printed. This is a simple and effective way to multiply two matrices within Python."
   ]
  },
  {
   "cell_type": "markdown",
   "metadata": {},
   "source": [
    "\n",
    "\n",
    "## References"
   ]
  },
  {
   "cell_type": "markdown",
   "metadata": {},
   "source": [
    "Exploring the Collatz Conjecture with Python - https://medium.com/@chakshugupta774/exploring-the-collatz-conjecture-with-python-7c5d9f31d233\n",
    "<br>Python program to find square root of the number using Newton’s method. - https://thirumalai2024.medium.com/python-program-to-find-square-root-of-the-number-using-newtons-method-937c0e732756\n",
    "<br>Python Program to Multiply Two Matrices - https://www.programiz.com/python-programming/examples/multiply-matrix\n",
    "\n",
    "\n"
   ]
  }
 ],
 "metadata": {
  "kernelspec": {
   "display_name": "Python 3 (ipykernel)",
   "language": "python",
   "name": "python3"
  },
  "language_info": {
   "codemirror_mode": {
    "name": "ipython",
    "version": 3
   },
   "file_extension": ".py",
   "mimetype": "text/x-python",
   "name": "python",
   "nbconvert_exporter": "python",
   "pygments_lexer": "ipython3",
   "version": "3.10.8"
  }
 },
 "nbformat": 4,
 "nbformat_minor": 4
}
