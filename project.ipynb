{
 "cells": [
  {
   "cell_type": "markdown",
   "metadata": {},
   "source": [
    "# Duetch's Algorithm\n",
    "By Daniel Steshenko"
   ]
  },
  {
   "cell_type": "markdown",
   "metadata": {},
   "source": [
    "## Introduction\n",
    "---"
   ]
  },
  {
   "cell_type": "markdown",
   "metadata": {},
   "source": [
    "In this assignment, I will explain the Duetch's Algorithm, and the problem it tackles. \n",
    "\n",
    "Duetch's Algorithm was developed by David Duetch in 1985, it is believed to have started the field of quantum computing. When David Duetch developed this Algorithm in 1985, it saw the real power of quantum algorithms over classical computing algorithms. The are two Algorithms at hand here, Duetch's Algorithm and Duetch-Jozsa's Algorithm. The only difference between both algorithms is the amount of qubits considered. Since we are focusing on Duetch's Algorithm, we will look into it particularly, and the problem it tackles.\n",
    "\n"
   ]
  },
  {
   "cell_type": "markdown",
   "metadata": {},
   "source": [
    "## The Problem\n",
    "---"
   ]
  },
  {
   "cell_type": "markdown",
   "metadata": {},
   "source": [
    "Duetch's Algorithm tackles a problem in which we are presented with a black-box function. This function takes an input value of $0$ or $1$, and outputs values of $0$ or $1$. Now, if the output of this function is a certain number. For example, if all the outputs are $0$ or $1$, this will be called a **constant function**. If the outputs are mixed, its called a **balanced function**. Duetch's Algorithm was developed to determine whether a function is **balanced** or **constant** with the least amount of runs. Right now, quantum computers will have to run this function multiple times in order to determine whether the function is **balanced** or **constant**, but in the future quantum computers will be able to determine this with one run, with 100% accuracy. Which is impressive to say the least.\n",
    "\n",
    "Constant function: $f(0) = 0$ and $f(1) = 0$ <br>\n",
    "Balanced function: $f(0) = 0$ and $f(1) = 1$"
   ]
  },
  {
   "cell_type": "markdown",
   "metadata": {},
   "source": [
    "## Implementation of Duetch's Algorithm\n",
    "---"
   ]
  },
  {
   "cell_type": "markdown",
   "metadata": {},
   "source": [
    "To implement Duetch's Algorithm, you do the following:\n",
    "\n",
    "**Step 1:** You create a 2 qubit quantum circuit. <br>\n",
    "**Step 2:** Apply the Hadamart gate to both qubits. <br>\n",
    "**Step 3:** Apply the black box function. <br>\n",
    "**Step 4:** Measure the first qubit. <br>\n",
    "**Step 5:** Determine the function based on the result. <br>\n"
   ]
  },
  {
   "cell_type": "markdown",
   "metadata": {},
   "source": [
    "## Implementation of Duetch's Algorithm using Qiskit\n",
    "---"
   ]
  },
  {
   "cell_type": "code",
   "execution_count": 41,
   "metadata": {},
   "outputs": [
    {
     "name": "stdout",
     "output_type": "stream",
     "text": [
      "Constant function: {'0': 1024}\n",
      "Balanced function: {'0': 553, '1': 471}\n"
     ]
    }
   ],
   "source": [
    "from qiskit import QuantumCircuit, Aer, assemble # Import the Qiskit\n",
    "\n",
    "def deutsch_algorithm(f_type):\n",
    "    n = 1 # Number of qubits\n",
    "    qc = QuantumCircuit(n+1, n) # Create a quantum circuit with n+1 qubits and n bits\n",
    "\n",
    "    qc.h(range(n+1)) # Apply Hadamard gate to the first n qubits\n",
    "\n",
    "    qc.x(n) # Apply X gate to the last qubit\n",
    "    qc.h(n) # Apply Hadamard gate to the last qubit\n",
    "\n",
    "    if f_type == 'constant':\n",
    "        pass  # Do nothing to implement a constant function\n",
    "    elif f_type == 'balanced':\n",
    "        qc.cx(0, 1)  # Use a CNOT gate to implement a balanced function\n",
    "\n",
    "    qc.h(range(n)) # Apply Hadamard gate to the first n qubits\n",
    "\n",
    "    qc.measure(range(n), range(n)) # Measure the first n qubits\n",
    "\n",
    "    backend = Aer.get_backend('qasm_simulator') # Use qasm_simulator \n",
    "    circuits = [qc] # Put the circuit in a list\n",
    "    result = backend.run(circuits).result() # Execute the circuit \n",
    "\n",
    "   \n",
    "    return result.get_counts() # Return the counts\n",
    "\n",
    "# Measure a constant function\n",
    "counts_constant = deutsch_algorithm('constant')\n",
    "print(\"Constant function:\", counts_constant)\n",
    "\n",
    "# Measure a balanced function\n",
    "counts_balanced = deutsch_algorithm('balanced')\n",
    "print(\"Balanced function:\", counts_balanced)\n"
   ]
  },
  {
   "cell_type": "markdown",
   "metadata": {},
   "source": [
    "## References\n",
    "---"
   ]
  },
  {
   "cell_type": "markdown",
   "metadata": {},
   "source": [
    "Introduction to quantum computing: The Deutsch algorithm - https://akyrillidis.github.io/notes/quant_post_8 <br>\n",
    "THE DEUTSCH-JOZSA ALGORITHM EXPLAINED - https://www.classiq.io/insights/the-deutsch-jozsa-algorithm-explained <br>\n",
    "Quantum Algo: Deutsch Algorithm - https://anonymousket.medium.com/quantum-algo-deutsch-algorithm-ccc119c69c08 <br>\n",
    "Quantum Algo: Deutsch-Jozsa Algorithm - https://anonymousket.medium.com/quantum-algo-deutsch-jozsa-algorithm-7181bd1e6a02 <br>\n",
    "Deutsch's Algorithm: https://www.qmunity.tech/tutorials/deutschs-algorithm\n",
    "\n",
    "\n",
    "\n"
   ]
  }
 ],
 "metadata": {
  "kernelspec": {
   "display_name": "Python 3 (ipykernel)",
   "language": "python",
   "name": "python3"
  },
  "language_info": {
   "codemirror_mode": {
    "name": "ipython",
    "version": 3
   },
   "file_extension": ".py",
   "mimetype": "text/x-python",
   "name": "python",
   "nbconvert_exporter": "python",
   "pygments_lexer": "ipython3",
   "version": "3.10.8"
  }
 },
 "nbformat": 4,
 "nbformat_minor": 4
}
