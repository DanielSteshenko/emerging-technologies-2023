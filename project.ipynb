{
 "cells": [
  {
   "cell_type": "markdown",
   "metadata": {},
   "source": [
    "# Duetch's Algorithm\n",
    "By Daniel Steshenko"
   ]
  },
  {
   "cell_type": "markdown",
   "metadata": {},
   "source": [
    "## Introduction\n",
    "---"
   ]
  },
  {
   "cell_type": "markdown",
   "metadata": {},
   "source": [
    "In this assignment, I will explore Deutsch's Algorithm, a quantum algorithm developed by David Deutsch in 1985. Duetch's algorithm was developed to solve a specific problem, and it demonstrates the power of quantom computing over classical computing."
   ]
  },
  {
   "cell_type": "markdown",
   "metadata": {},
   "source": [
    "## The Problem\n",
    "---"
   ]
  },
  {
   "cell_type": "markdown",
   "metadata": {},
   "source": [
    "Deutsch's Algorithm tackles a problem in which we are presented with a black-box function. This function takes an input value of $0$ or $1$, and outputs values of $0$ or $1$. We are specifically looking for the output;\n",
    "\n",
    "- **Constant Function:** In a constant function, all outputs are the same. For example, $f(0) = 0$ and $f(1) = 0$.\n",
    "\n",
    "- **Balanced Function:** In a balanced function, the outputs are mixed. For instance, $f(0) = 0$ and $f(1) = 1$.\n",
    "\n",
    "Deutsch's Algorithm is designed to determine whether a given function is balanced or constant with the fewest possible runs. Currently, quantum computers require multiple runs of the function for this determination. However, in the future, quantum computers will achieve this classification in a single run with 100% accuracy, showcasing the potential of quantum algorithms.\n"
   ]
  },
  {
   "cell_type": "markdown",
   "metadata": {},
   "source": [
    "## Implementation of Duetch's Algorithm\n",
    "---"
   ]
  },
  {
   "cell_type": "markdown",
   "metadata": {},
   "source": [
    "To implement Duetch's Algorithm, you do the following:\n",
    "\n",
    "**Step 1:** Create a 2 qubit quantum circuit. <br>\n",
    "**Step 2:** Apply the Hadamart gate to both qubits. <br>\n",
    "**Step 3:** Apply the black box function. <br>\n",
    "**Step 4:** Measure the first qubit. <br>\n",
    "**Step 5:** Determine the function based on the result. <br>\n"
   ]
  },
  {
   "cell_type": "markdown",
   "metadata": {},
   "source": [
    "## Implementation of Duetch's Algorithm using Qiskit\n",
    "---"
   ]
  },
  {
   "cell_type": "code",
   "execution_count": 6,
   "metadata": {},
   "outputs": [
    {
     "name": "stdout",
     "output_type": "stream",
     "text": [
      "Constant function: {'0': 1024}\n",
      "Balanced function: {'0': 532, '1': 492}\n"
     ]
    }
   ],
   "source": [
    "from qiskit import QuantumCircuit, Aer, assemble\n",
    "\n",
    "def deutsch_algorithm(f_type):\n",
    "    n = 1\n",
    "    qc = QuantumCircuit(n + 1, n)\n",
    "\n",
    "    # Apply Hadamard gate to the first n+1 qubits\n",
    "    qc.h(range(n + 1))\n",
    "\n",
    "    # Apply X gate and Hadamard gate to the last qubit\n",
    "    qc.x(n)\n",
    "    qc.h(n)\n",
    "\n",
    "    if f_type == 'constant':\n",
    "        pass  # Do nothing to implement a constant function\n",
    "    elif f_type == 'balanced':\n",
    "        qc.cx(0, 1)  # Use a CNOT gate to implement a balanced function\n",
    "\n",
    "    # Apply Hadamard gate to the first n qubits\n",
    "    qc.h(range(n))\n",
    "\n",
    "    # Measure the first n qubits\n",
    "    qc.measure(range(n), range(n))\n",
    "\n",
    "    backend = Aer.get_backend('qasm_simulator')\n",
    "    circuits = [qc]\n",
    "        \n",
    "    result = backend.run(circuits).result()\n",
    "   \n",
    "    return result.get_counts()\n",
    "\n",
    "# Measure a constant function\n",
    "counts_constant = deutsch_algorithm('constant')\n",
    "print(\"Constant function:\", counts_constant)\n",
    "\n",
    "# Measure a balanced function\n",
    "counts_balanced = deutsch_algorithm('balanced')\n",
    "print(\"Balanced function:\", counts_balanced)"
   ]
  },
  {
   "cell_type": "markdown",
   "metadata": {},
   "source": [
    "## Conclusion\n",
    "---"
   ]
  },
  {
   "cell_type": "markdown",
   "metadata": {},
   "source": [
    "We learned that Duetch's algorithm excels in determining if a function is constant or balanced. Duetch's Algorithm shows us that quantum computers in the future will outshine classical methods. As quantum advances, the algorithm hints at big uses, showing quantum strength in specific tasks."
   ]
  },
  {
   "cell_type": "markdown",
   "metadata": {},
   "source": [
    "## References\n",
    "---"
   ]
  },
  {
   "cell_type": "markdown",
   "metadata": {},
   "source": [
    "Introduction to quantum computing: The Deutsch algorithm - https://akyrillidis.github.io/notes/quant_post_8 <br>\n",
    "The Deutch-Joza Algorithm Explained - https://www.classiq.io/insights/the-deutsch-jozsa-algorithm-explained <br>\n",
    "Quantum Algo: Deutsch Algorithm - https://anonymousket.medium.com/quantum-algo-deutsch-algorithm-ccc119c69c08 <br>\n",
    "Quantum Algo: Deutsch-Jozsa Algorithm - https://anonymousket.medium.com/quantum-algo-deutsch-jozsa-algorithm-7181bd1e6a02 <br>\n",
    "Deutsch's Algorithm: https://www.qmunity.tech/tutorials/deutschs-algorithm\n",
    "\n",
    "\n",
    "\n"
   ]
  }
 ],
 "metadata": {
  "kernelspec": {
   "display_name": "Python 3 (ipykernel)",
   "language": "python",
   "name": "python3"
  },
  "language_info": {
   "codemirror_mode": {
    "name": "ipython",
    "version": 3
   },
   "file_extension": ".py",
   "mimetype": "text/x-python",
   "name": "python",
   "nbconvert_exporter": "python",
   "pygments_lexer": "ipython3",
   "version": "3.10.8"
  }
 },
 "nbformat": 4,
 "nbformat_minor": 4
}
