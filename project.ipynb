{
 "cells": [
  {
   "cell_type": "markdown",
   "metadata": {},
   "source": [
    "# Duetch's Algorithm\n",
    "By Daniel Steshenko"
   ]
  },
  {
   "cell_type": "markdown",
   "metadata": {},
   "source": [
    "## Introduction\n",
    "---"
   ]
  },
  {
   "cell_type": "markdown",
   "metadata": {},
   "source": [
    "In this assignment, I will explain the Duetch's Algorithm, and the problem it tackles. \n",
    "\n",
    "Duetch's Algorithm was developed by David Duetch in 1985, it is believed to have started the field of quantum computing. When David Duetch developed this Algorithm in 1985, it saw the real power of quantum algorithms over the classical computing algorithms. The are two Algorithms at hand here, Duetch's Algorith and Duetch-Jozsa's Algorithm. The only difference between both algorithms is the amount of qubits considered. Since we are focusing on Duetch's Algoritm, we will look into it particularly, and the problem it tackles \n",
    "\n"
   ]
  },
  {
   "cell_type": "markdown",
   "metadata": {},
   "source": [
    "## The Problem\n",
    "---"
   ]
  },
  {
   "cell_type": "markdown",
   "metadata": {},
   "source": [
    "Duetch's Algorithm tackles a problem in which we are presented with a black-box function. This function takes an input value of $0$ or $1$, and outputs values of $0$ or $1$. Now, if the output of this function is a certain number. For example, if all the outputs are $0$ or $1$, this will be called a **constant function**. If the outputs are mixed, its called a **balanced function**. Duetch's Algorithm was developed to determine whether a function is **balanced** or **constant**. Today's quantum computers will have to run this funciton multiple times in order to determine whether the function is **balanced** or **constant**, but in the future quantum computers will be able to determine this with one run, with 100% accuracy. Which is impressive to say the least.\n"
   ]
  },
  {
   "cell_type": "markdown",
   "metadata": {},
   "source": [
    "## References"
   ]
  },
  {
   "cell_type": "markdown",
   "metadata": {},
   "source": [
    "Introduction to quantum computing: The Deutsch algorithm - https://akyrillidis.github.io/notes/quant_post_8 <br>\n",
    "THE DEUTSCH-JOZSA ALGORITHM EXPLAINED - https://www.classiq.io/insights/the-deutsch-jozsa-algorithm-explained <br>\n",
    "Quantum Algo: Deutsch Algorithm - https://anonymousket.medium.com/quantum-algo-deutsch-algorithm-ccc119c69c08 <br>\n",
    "Quantum Algo: Deutsch-Jozsa Algorithm - https://anonymousket.medium.com/quantum-algo-deutsch-jozsa-algorithm-7181bd1e6a02 <br>\n",
    "\n",
    "\n",
    "\n"
   ]
  },
  {
   "cell_type": "code",
   "execution_count": null,
   "metadata": {},
   "outputs": [],
   "source": []
  }
 ],
 "metadata": {
  "kernelspec": {
   "display_name": "Python 3 (ipykernel)",
   "language": "python",
   "name": "python3"
  },
  "language_info": {
   "codemirror_mode": {
    "name": "ipython",
    "version": 3
   },
   "file_extension": ".py",
   "mimetype": "text/x-python",
   "name": "python",
   "nbconvert_exporter": "python",
   "pygments_lexer": "ipython3",
   "version": "3.10.8"
  }
 },
 "nbformat": 4,
 "nbformat_minor": 4
}
