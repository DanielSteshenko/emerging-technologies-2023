{
 "cells": [
  {
   "cell_type": "markdown",
   "metadata": {},
   "source": [
    "# Deutsch's Algorithm\n",
    "By Daniel Steshenko"
   ]
  },
  {
   "cell_type": "markdown",
   "metadata": {},
   "source": [
    "## Introduction\n",
    "---"
   ]
  },
  {
   "cell_type": "markdown",
   "metadata": {},
   "source": [
    "In this assignment, I will explore Deutsch's Algorithm, a quantum algorithm developed by David Deutsch in 1985. Duetch's algorithm was developed to solve a specific problem, and it demonstrates the power of quantom computing over classical computing."
   ]
  },
  {
   "cell_type": "markdown",
   "metadata": {},
   "source": [
    "## The Problem\n",
    "---"
   ]
  },
  {
   "cell_type": "markdown",
   "metadata": {},
   "source": [
    "Deutsch's Algorithm tackles a problem in which we are presented with a black-box function. This function takes an input value of $0$ or $1$, and outputs values of $0$ or $1$. We are specifically looking for the output;\n",
    "\n",
    "- **Constant Function:** In a constant function, all outputs are the same. For example, $f(0) = 0$ and $f(1) = 0$.\n",
    "\n",
    "- **Balanced Function:** In a balanced function, the outputs are mixed. For instance, $f(0) = 0$ and $f(1) = 1$.\n",
    "\n",
    "Deutsch's Algorithm is designed to determine whether a given function is balanced or constant with the fewest possible runs. Currently, quantum computers require multiple runs of the function for this determination. However, in the future, quantum computers will achieve this classification in a single run with 100% accuracy, showcasing the potential of quantum algorithms.\n"
   ]
  },
  {
   "cell_type": "markdown",
   "metadata": {},
   "source": [
    "## Implementation of Deutsch's Algorithm\n",
    "---"
   ]
  },
  {
   "cell_type": "markdown",
   "metadata": {},
   "source": [
    "To implement Deutsch's Algorithm, you do the following:\n",
    "\n",
    "**Step 1:** Create a 2 qubit quantum circuit. <br>\n",
    "**Step 2:** Apply the Hadamart gate to both qubits. <br>\n",
    "**Step 3:** Apply the black box function. <br>\n",
    "**Step 4:** Measure the first qubit. <br>\n",
    "**Step 5:** Determine the function based on the result. <br>\n"
   ]
  },
  {
   "cell_type": "markdown",
   "metadata": {},
   "source": [
    "## Implementation of Deutsch's Algorithm using Qiskit\n",
    "---"
   ]
  },
  {
   "cell_type": "code",
   "execution_count": 1,
   "metadata": {},
   "outputs": [
    {
     "name": "stdout",
     "output_type": "stream",
     "text": [
      "Constant function: {'0': 1024}\n",
      "Balanced function: {'1': 518, '0': 506}\n"
     ]
    }
   ],
   "source": [
    "from qiskit import QuantumCircuit, Aer, assemble\n",
    "\n",
    "def deutsch_algorithm(f_type):\n",
    "    n = 1\n",
    "    qc = QuantumCircuit(n + 1, n)\n",
    "\n",
    "    # Apply Hadamard gate to the first n+1 qubits\n",
    "    qc.h(range(n + 1))\n",
    "\n",
    "    # Apply X gate and Hadamard gate to the last qubit\n",
    "    qc.x(n)\n",
    "    qc.h(n)\n",
    "\n",
    "    if f_type == 'constant':\n",
    "        pass  # Do nothing to implement a constant function\n",
    "    elif f_type == 'balanced':\n",
    "        qc.cx(0, 1)  # Use a CNOT gate to implement a balanced function\n",
    "\n",
    "    # Apply Hadamard gate to the first n qubits\n",
    "    qc.h(range(n))\n",
    "\n",
    "    # Measure the first n qubits\n",
    "    qc.measure(range(n), range(n))\n",
    "\n",
    "    backend = Aer.get_backend('qasm_simulator')\n",
    "    circuits = [qc]\n",
    "        \n",
    "    result = backend.run(circuits).result()\n",
    "   \n",
    "    return result.get_counts()\n",
    "\n",
    "# Measure a constant function\n",
    "counts_constant = deutsch_algorithm('constant')\n",
    "print(\"Constant function:\", counts_constant)\n",
    "\n",
    "# Measure a balanced function\n",
    "counts_balanced = deutsch_algorithm('balanced')\n",
    "print(\"Balanced function:\", counts_balanced)"
   ]
  },
  {
   "cell_type": "markdown",
   "metadata": {},
   "source": [
    "## Comparative Analysis between Quantum and Classical Computing\n",
    "---"
   ]
  },
  {
   "cell_type": "markdown",
   "metadata": {},
   "source": [
    "It's important to understand the difference between Quantum computing and Classical computing in respect to Deutch's Algorithm."
   ]
  },
  {
   "cell_type": "markdown",
   "metadata": {},
   "source": [
    "### Quantum Computing\n",
    "\n",
    "1. **Superposition:** Quantum computing leverages superposition, allowing qubits to exist in multiple states simultaneously. In Deutsch's Algorithm, superposition enables the algorithm to evaluate both possible inputs (0 and 1) simultaneously.\n",
    "\n",
    "2. **Entanglement:** Quantum computing entanglement establish direct relation between qubits. This enhances the efficiency of tasks like function evaluation.\n",
    "\n",
    "3. **Quantum Gates:** The algorithm uses quantum gates such as Hadamard and CNOT to manipulate the state of qubits, providing a unique approach to computation.\n",
    "\n",
    "4. **Potential for Speedup:** Quantum algorithms, like Deutch's Algorithm, have the potential to outperform classical algorithms for specific task, promising a speedup in certain situations.\n"
   ]
  },
  {
   "cell_type": "markdown",
   "metadata": {},
   "source": [
    "#### Classical Computing \n",
    "\n",
    "1. **Bit-based Computing:** Classical computers rely on bits, which can exist in a state of 0 or 1. This limits parallelism in classical algorithms.\n",
    "\n",
    "2. **Sequential Computation:** Classical algorithms typically execute sequentially, meaning one input at a time. This sequential method may require multiple runs for tasks that quantum algorithms can perform in a single run.\n",
    "\n",
    "3. **Specific Results:** Classical algorithms provide specific results, meaning the outcome is predictable for a given input.\n",
    "\n",
    "4. **Established Technology:** Classical computing is a well-established technology with widespread use. Quantum computing is still in its early stages of development, and the cost of owning a quantum computer is very high."
   ]
  },
  {
   "cell_type": "markdown",
   "metadata": {},
   "source": [
    "## Conclusion\n",
    "---"
   ]
  },
  {
   "cell_type": "markdown",
   "metadata": {},
   "source": [
    "We learned that Deutsch's algorithm excels in determining if a function is constant or balanced. Deutsch's Algorithm shows us that quantum computers in the future will outshine classical methods. As quantum advances, the algorithm hints at big uses, showing quantum strength in specific tasks. The comparative analysis showcases the features of quantum and classical computing, offering insight into their strengths and limitations to Deutsch's Algorithm."
   ]
  },
  {
   "cell_type": "markdown",
   "metadata": {},
   "source": [
    "## References\n",
    "---"
   ]
  },
  {
   "cell_type": "markdown",
   "metadata": {},
   "source": [
    "- [Introduction to quantum computing: The Deutsch algorithm](https://akyrillidis.github.io/notes/quant_post_8) <br>\n",
    "- [The Deutsch-Joza Algorithm Explained](https://www.classiq.io/insights/the-deutsch-jozsa-algorithm-explained) <br>\n",
    "- [Quantum Algo: Deutsch Algorithm](https://anonymousket.medium.com/quantum-algo-deutsch-algorithm-ccc119c69c08) <br>\n",
    "- [Quantum Algo: Deutsch-Jozsa Algorithm](https://anonymousket.medium.com/quantum-algo-deutsch-jozsa-algorithm-7181bd1e6a02) <br>\n",
    "- [Deutsch's Algorithm](https://www.qmunity.tech/tutorials/deutschs-algorithm) <br>\n",
    "- [Implementing Deutsch’s Algorithm in qiskit and cirq](https://jan-czechowski.medium.com/implementing-deutschs-algorithm-in-qiskit-and-cirq-48949d60e59d)\n",
    "- [Lecture 6: Deutsch’s Algorithm](https://www.cs.umd.edu/class/spring2023/cmsc457/note/Gharibian-Lec-06.pdf)\n",
    "\n"
   ]
  }
 ],
 "metadata": {
  "kernelspec": {
   "display_name": "Python 3 (ipykernel)",
   "language": "python",
   "name": "python3"
  },
  "language_info": {
   "codemirror_mode": {
    "name": "ipython",
    "version": 3
   },
   "file_extension": ".py",
   "mimetype": "text/x-python",
   "name": "python",
   "nbconvert_exporter": "python",
   "pygments_lexer": "ipython3",
   "version": "3.10.8"
  }
 },
 "nbformat": 4,
 "nbformat_minor": 4
}
